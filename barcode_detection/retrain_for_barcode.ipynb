{
 "cells": [
  {
   "cell_type": "code",
   "execution_count": null,
   "id": "played-crystal",
   "metadata": {},
   "outputs": [],
   "source": [
    "import os\n",
    "import sys\n",
    "\n",
    "import tensorflow as tf\n",
    "\n",
    "tf.get_logger().setLevel('ERROR')\n",
    "print(tf.version.VERSION)"
   ]
  },
  {
   "cell_type": "code",
   "execution_count": null,
   "id": "casual-scotland",
   "metadata": {},
   "outputs": [],
   "source": [
    "CONFIG_DIR = os.path.join(os.getcwd(), \"configs/\")\n",
    "CONFIG_FILE = os.path.join(CONFIG_DIR, \"default.yaml\")\n",
    "if not os.path.exists(CONFIG_DIR):\n",
    "    os.mkdir(CONFIG_DIR)\n",
    "\n",
    "config_text = \\\n",
    "\"\"\"image_size: 640x480\n",
    "num_classes: 1\n",
    "label_map: {1: 1d}\n",
    "\"\"\"\n",
    "\n",
    "with open(CONFIG_FILE, \"w\") as fwrite:\n",
    "    fwrite.write(config_text)"
   ]
  },
  {
   "cell_type": "code",
   "execution_count": null,
   "id": "killing-drunk",
   "metadata": {},
   "outputs": [],
   "source": [
    "MODEL = 'efficientdet-d0'\n",
    "CKPT = MODEL\n",
    "TFRECORDS_DIR = 'tfrecords'\n",
    "\n",
    "TRAIN_SET = os.path.join(TFRECORDS_DIR, \"train.tfrecord-*\")\n",
    "VAL_SET = os.path.join(TFRECORDS_DIR, \"val.tfrecord-*\")\n",
    "MODEL_DIR_TMP = os.path.join(os.getcwd(), \"tmp\", f\"{MODEL}-finetune\")\n",
    "TRAIN_NUM_EXAMPLES = 10\n",
    "EVAL_NUM_EXAMPLES = 10\n",
    "EPOCHS = 4\n",
    "BATCH_SIZE = 2"
   ]
  },
  {
   "cell_type": "code",
   "execution_count": null,
   "id": "velvet-input",
   "metadata": {},
   "outputs": [],
   "source": [
    "if os.path.exists(MODEL_DIR_TMP):\n",
    "    !rm -rf {MODEL_DIR_TMP}"
   ]
  },
  {
   "cell_type": "code",
   "execution_count": null,
   "id": "intermediate-sculpture",
   "metadata": {},
   "outputs": [],
   "source": [
    "EFFICIENTDET_MAIN = os.path.join(os.getcwd(), 'automl/efficientdet/main.py')\n",
    "!python {EFFICIENTDET_MAIN} \\\n",
    "    --mode=train_and_eval \\\n",
    "    --train_file_pattern={TRAIN_SET} \\\n",
    "    --val_file_pattern={VAL_SET} \\\n",
    "    --model_name={MODEL} \\\n",
    "    --model_dir={MODEL_DIR_TMP} \\\n",
    "    --ckpt={CKPT} \\\n",
    "    --train_batch_size={BATCH_SIZE} \\\n",
    "    --eval_batch_size={BATCH_SIZE} \\\n",
    "    --num_epochs={EPOCHS} \\\n",
    "    --num_examples_per_epoch={TRAIN_NUM_EXAMPLES} \\\n",
    "    --eval_samples={EVAL_NUM_EXAMPLES} \\\n",
    "    --hparams={CONFIG_FILE} \\\n",
    "    --strategy=gpus"
   ]
  }
 ],
 "metadata": {
  "kernelspec": {
   "display_name": "Python 3",
   "language": "python",
   "name": "python3"
  },
  "language_info": {
   "codemirror_mode": {
    "name": "ipython",
    "version": 3
   },
   "file_extension": ".py",
   "mimetype": "text/x-python",
   "name": "python",
   "nbconvert_exporter": "python",
   "pygments_lexer": "ipython3",
   "version": "3.8.8"
  }
 },
 "nbformat": 4,
 "nbformat_minor": 5
}
