{
 "cells": [
  {
   "cell_type": "code",
   "execution_count": null,
   "id": "gorgeous-warehouse",
   "metadata": {},
   "outputs": [],
   "source": [
    "import os\n",
    "import sys"
   ]
  },
  {
   "cell_type": "code",
   "execution_count": null,
   "id": "stuffed-possibility",
   "metadata": {},
   "outputs": [],
   "source": [
    "def instal_packages():\n",
    "    # setup packages\n",
    "    !pip install tensorflow-model-optimization\n",
    "    !pip install PyYAML==5.4.1"
   ]
  },
  {
   "cell_type": "code",
   "execution_count": null,
   "id": "revised-commander",
   "metadata": {},
   "outputs": [],
   "source": [
    "def setup_project(project_path, model):\n",
    "    def download_barcode_detection():\n",
    "        print('Downloading barcode detection module...')\n",
    "        # Download source code.\n",
    "        if not os.path.exists(os.path.join(os.getcwd(), '/BarcodeScanner')):\n",
    "            !git clone --depth 1 https://github.com/SavanK/BarcodeScanner\n",
    "        os.chdir('BarcodeScanner/')\n",
    "        !git pull\n",
    "        os.chdir('..')\n",
    "    \n",
    "    os.chdir(project_path)\n",
    "    download_barcode_detection()\n",
    "    os.chdir('BarcodeScanner/barcode_detection/')\n",
    "    print(f'CWD: {os.getcwd()}')\n",
    "\n",
    "    %run ./setup_efficientdet.ipynb\n",
    "    install_efficientdet()\n",
    "    ckpt_path = download_efficientdet_model(model)\n",
    "    print(f'Model downloaded at {ckpt_path}')"
   ]
  },
  {
   "cell_type": "code",
   "execution_count": null,
   "id": "considered-coral",
   "metadata": {},
   "outputs": [],
   "source": [
    "def setup_data():\n",
    "    print(f'Setting up data...')\n",
    "    %run ./generate_tfrecord.ipynb\n",
    "    TFRECORDS_DIR = os.path.join(os.getcwd(), 'tfrecords/')\n",
    "    DATASET_DIR = os.path.join(os.getcwd(), 'Muenster_Barcode_Database/N95-2592x1944_scaledTo640x480bilinear')\n",
    "    ANNOTATIONS_PATH = os.path.join(os.getcwd(), 'Muenster_Barcode_Database/annotations.csv')\n",
    "\n",
    "    create_train_val_tfrecords(DATASET_DIR, ANNOTATIONS_PATH, TFRECORDS_DIR, 25)\n",
    "    print(f'Created tfrecords for train and validation data at {TFRECORDS_DIR}')\n",
    "    \n",
    "    return TFRECORDS_DIR"
   ]
  },
  {
   "cell_type": "code",
   "execution_count": null,
   "id": "unknown-discovery",
   "metadata": {},
   "outputs": [],
   "source": [
    "MODEL = 'efficientdet-d0'\n",
    "\n",
    "install_required_packages()\n",
    "setup_project(project_path='/content/')\n",
    "tfrecords_path = setup_data()\n",
    "tfrecords_dir = os.path.basename(tfrecords_path)\n",
    "\n",
    "%run ./retrain_efficientdet_for_barcode.ipynb\n",
    "retrain_efficientdet_for_barcode(MODEL, tfrecords_dir)"
   ]
  }
 ],
 "metadata": {
  "kernelspec": {
   "display_name": "Python 3",
   "language": "python",
   "name": "python3"
  },
  "language_info": {
   "codemirror_mode": {
    "name": "ipython",
    "version": 3
   },
   "file_extension": ".py",
   "mimetype": "text/x-python",
   "name": "python",
   "nbconvert_exporter": "python",
   "pygments_lexer": "ipython3",
   "version": "3.8.8"
  }
 },
 "nbformat": 4,
 "nbformat_minor": 5
}
