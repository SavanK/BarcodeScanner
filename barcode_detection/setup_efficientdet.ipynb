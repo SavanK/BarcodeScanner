{
 "cells": [
  {
   "cell_type": "code",
   "execution_count": null,
   "id": "buried-designation",
   "metadata": {},
   "outputs": [],
   "source": [
    "import os\n",
    "import sys"
   ]
  },
  {
   "cell_type": "code",
   "execution_count": null,
   "id": "horizontal-release",
   "metadata": {},
   "outputs": [],
   "source": [
    "def install_efficientdet():\n",
    "    print('Installing efficientdet ...')\n",
    "    # Download source code.\n",
    "    if not os.path.exists(os.path.join(os.getcwd(), '/automl')):\n",
    "        !git clone --depth 1 https://github.com/google/automl\n",
    "    \n",
    "    os.chdir('automl')\n",
    "    if os.path.exists(os.path.join(os.getcwd(), '/efficientdet')):\n",
    "        os.chdir('efficientdet')\n",
    "        sys.path.append('.')\n",
    "        !pip install -r requirements.txt\n",
    "        !pip install -U 'git+https://github.com/cocodataset/cocoapi.git#subdirectory=PythonAPI'\n",
    "        os.chdir('..')\n",
    "    else:\n",
    "        !git pull\n",
    "    os.chdir('..')"
   ]
  },
  {
   "cell_type": "code",
   "execution_count": null,
   "id": "entertaining-vegetarian",
   "metadata": {},
   "outputs": [],
   "source": [
    "def download_efficientdet_model(m):\n",
    "    print(f'Downloading efficientdet model: {m}...')\n",
    "    # Download model\n",
    "    if os.path.exists(os.path.join(os.getcwd(), '/pretrained_models')):\n",
    "        os.mkdir('pretrained_models')\n",
    "        \n",
    "    os.chdir('pretrained_models')\n",
    "    if m not in os.listdir():\n",
    "        !wget https://storage.googleapis.com/cloud-tpu-checkpoints/efficientdet/coco/{m}.tar.gz\n",
    "        !tar zxf {m}.tar.gz\n",
    "    ckpt_path = os.path.join(os.getcwd(), m)\n",
    "    os.chdir('..')\n",
    "    \n",
    "    return ckpt_path"
   ]
  },
  {
   "cell_type": "code",
   "execution_count": null,
   "id": "banner-method",
   "metadata": {},
   "outputs": [],
   "source": [
    "print(f'Current working directory: {os.getcwd()}')\n",
    "install_efficientdet()\n",
    "\n",
    "MODEL = 'efficientdet-d0'\n",
    "\n",
    "# Download checkpoint.\n",
    "ckpt_path = download_efficientdet_model(MODEL)\n",
    "\n",
    "print(f'Use model in {ckpt_path}')"
   ]
  }
 ],
 "metadata": {
  "kernelspec": {
   "display_name": "Python 3",
   "language": "python",
   "name": "python3"
  },
  "language_info": {
   "codemirror_mode": {
    "name": "ipython",
    "version": 3
   },
   "file_extension": ".py",
   "mimetype": "text/x-python",
   "name": "python",
   "nbconvert_exporter": "python",
   "pygments_lexer": "ipython3",
   "version": "3.9.2"
  }
 },
 "nbformat": 4,
 "nbformat_minor": 5
}
