{
 "cells": [
  {
   "cell_type": "code",
   "execution_count": null,
   "id": "grave-infrastructure",
   "metadata": {},
   "outputs": [],
   "source": [
    "import os\n",
    "import sys\n",
    "\n",
    "import tensorflow as tf\n",
    "\n",
    "tf.get_logger().setLevel('ERROR')"
   ]
  },
  {
   "cell_type": "code",
   "execution_count": null,
   "id": "suspected-investing",
   "metadata": {},
   "outputs": [],
   "source": [
    "def install_efficientdet():\n",
    "    print('Installing efficientdet ...')\n",
    "    # Download source code.\n",
    "    if not os.path.exists(os.path.join(os.getcwd(), '/automl')):\n",
    "        !git clone --depth 1 https://github.com/google/automl\n",
    "    \n",
    "    os.chdir('automl')\n",
    "    if os.path.exists(os.path.join(os.getcwd(), '/efficientdet')):\n",
    "        os.chdir('efficientdet')\n",
    "        sys.path.append('.')\n",
    "        !pip install -r requirements.txt\n",
    "        !pip install -U 'git+https://github.com/cocodataset/cocoapi.git#subdirectory=PythonAPI'\n",
    "        os.chdir('..')\n",
    "    else:\n",
    "        !git pull\n",
    "    os.chdir('..')"
   ]
  },
  {
   "cell_type": "code",
   "execution_count": null,
   "id": "loose-karma",
   "metadata": {},
   "outputs": [],
   "source": [
    "def download_efficientdet_model(model_dir, m):\n",
    "    print(f'Downloading efficientdet model: {m}...')\n",
    "    # create the output directory if not exist\n",
    "    if not os.path.exists(model_dir):\n",
    "        os.mkdir(os.path.basename(os.path.dirname(model_dir)))\n",
    "    \n",
    "    # Download model\n",
    "    os.chdir('pretrained_models')\n",
    "    if m not in os.listdir():\n",
    "        !wget https://storage.googleapis.com/cloud-tpu-checkpoints/efficientdet/coco/{m}.tar.gz\n",
    "        !tar zxf {m}.tar.gz\n",
    "    ckpt_path = os.path.join(os.getcwd(), m)\n",
    "    os.chdir('..')\n",
    "    \n",
    "    return ckpt_path"
   ]
  },
  {
   "cell_type": "code",
   "execution_count": null,
   "id": "fabulous-interval",
   "metadata": {},
   "outputs": [],
   "source": [
    "print(f'Current working directory: {os.getcwd()}')\n",
    "install_efficientdet()\n",
    "\n",
    "PRETRAINED_MODELS_DIR = os.path.join(os.getcwd(), 'pretrained_models/')\n",
    "MODEL = 'efficientdet-d0'\n",
    "\n",
    "# Download checkpoint\n",
    "ckpt_path = download_efficientdet_model(PRETRAINED_MODELS_DIR, MODEL)\n",
    "\n",
    "print(f'Model downloaded at {ckpt_path}')"
   ]
  }
 ],
 "metadata": {
  "kernelspec": {
   "display_name": "Python 3",
   "language": "python",
   "name": "python3"
  },
  "language_info": {
   "codemirror_mode": {
    "name": "ipython",
    "version": 3
   },
   "file_extension": ".py",
   "mimetype": "text/x-python",
   "name": "python",
   "nbconvert_exporter": "python",
   "pygments_lexer": "ipython3",
   "version": "3.8.8"
  }
 },
 "nbformat": 4,
 "nbformat_minor": 5
}
